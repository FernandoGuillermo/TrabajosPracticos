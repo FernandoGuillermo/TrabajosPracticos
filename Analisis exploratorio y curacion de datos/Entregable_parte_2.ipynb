{
 "cells": [
  {
   "cell_type": "markdown",
   "metadata": {
    "colab_type": "text",
    "id": "view-in-github"
   },
   "source": [
    "<a href=\"https://colab.research.google.com/github/DiploDatos/AnalisisYCuracion/blob/master/Entregable_Parte_2.ipynb\" target=\"_parent\"><img src=\"https://colab.research.google.com/assets/colab-badge.svg\" alt=\"Open In Colab\"/></a>"
   ]
  },
  {
   "cell_type": "markdown",
   "metadata": {
    "id": "zO4bRoxr2Apy"
   },
   "source": [
    "**Diplomatura en Ciencia de Datos, Aprendizaje Automático y sus Aplicaciones**\n",
    "\n",
    "**Exploración y Curación de Datos**\n",
    "\n",
    "*Edición 2021*\n",
    "\n",
    "----\n",
    "\n",
    "# Trabajo práctico entregable - parte 2\n",
    "\n",
    "\n",
    "En el ejercicio 1 de la parte 1 del entregable seleccionaron las filas y columnas relevantes al problema de predicción de precios de una propiedad. Además de ello, tuvieron que reducir el número de valores posibles para las variables categóricas utilizando información de dominio.\n",
    "\n",
    "En el ejercicio 2 de la parte 1 del entregable imputaron los valores faltantes de las columnas `Suburb` y las columnas obtenidas a partir del conjunto de datos `airbnb`.\n",
    "\n",
    "En esta notebook, **se utilizará resultado de dichas operaciones.**\n"
   ]
  },
  {
   "cell_type": "code",
   "execution_count": 1,
   "metadata": {
    "id": "4udjxjk1EtVU"
   },
   "outputs": [],
   "source": [
    "import matplotlib.pyplot as plt\n",
    "import numpy\n",
    "import pandas\n",
    "\n",
    "import seaborn\n",
    "seaborn.set_context('talk')"
   ]
  },
  {
   "cell_type": "code",
   "execution_count": 2,
   "metadata": {
    "colab": {
     "base_uri": "https://localhost:8080/",
     "height": 227
    },
    "id": "_qeFN3GnEvMk",
    "outputId": "02e6e659-1be0-414f-a6a0-8f8298bb84d7"
   },
   "outputs": [
    {
     "data": {
      "text/html": [
       "<div>\n",
       "<style scoped>\n",
       "    .dataframe tbody tr th:only-of-type {\n",
       "        vertical-align: middle;\n",
       "    }\n",
       "\n",
       "    .dataframe tbody tr th {\n",
       "        vertical-align: top;\n",
       "    }\n",
       "\n",
       "    .dataframe thead th {\n",
       "        text-align: right;\n",
       "    }\n",
       "</style>\n",
       "<table border=\"1\" class=\"dataframe\">\n",
       "  <thead>\n",
       "    <tr style=\"text-align: right;\">\n",
       "      <th></th>\n",
       "      <th>Suburb</th>\n",
       "      <th>Rooms</th>\n",
       "      <th>Type</th>\n",
       "      <th>Price</th>\n",
       "      <th>Postcode</th>\n",
       "      <th>Bathroom</th>\n",
       "      <th>Distance</th>\n",
       "      <th>Landsize</th>\n",
       "      <th>BuildingArea</th>\n",
       "      <th>YearBuilt</th>\n",
       "      <th>Regionname</th>\n",
       "      <th>Propertycount</th>\n",
       "      <th>date_month</th>\n",
       "      <th>zipcode</th>\n",
       "      <th>airbnb_record_count</th>\n",
       "      <th>airbnb_price_mean</th>\n",
       "      <th>airbnb_weekly_price_mean</th>\n",
       "      <th>airbnb_monthly_price_mean</th>\n",
       "      <th>CouncilArea</th>\n",
       "    </tr>\n",
       "  </thead>\n",
       "  <tbody>\n",
       "    <tr>\n",
       "      <th>0</th>\n",
       "      <td>Abbotsford</td>\n",
       "      <td>2</td>\n",
       "      <td>h</td>\n",
       "      <td>1480000.0</td>\n",
       "      <td>3067.0</td>\n",
       "      <td>1.0</td>\n",
       "      <td>2.5</td>\n",
       "      <td>202.0</td>\n",
       "      <td>NaN</td>\n",
       "      <td>NaN</td>\n",
       "      <td>Northern Metropolitan</td>\n",
       "      <td>4019.0</td>\n",
       "      <td>2016-03-01</td>\n",
       "      <td>3067.0</td>\n",
       "      <td>258.0</td>\n",
       "      <td>130.624031</td>\n",
       "      <td>605.152174</td>\n",
       "      <td>2187.032258</td>\n",
       "      <td>Yarra</td>\n",
       "    </tr>\n",
       "    <tr>\n",
       "      <th>1</th>\n",
       "      <td>Abbotsford</td>\n",
       "      <td>2</td>\n",
       "      <td>h</td>\n",
       "      <td>1035000.0</td>\n",
       "      <td>3067.0</td>\n",
       "      <td>1.0</td>\n",
       "      <td>2.5</td>\n",
       "      <td>156.0</td>\n",
       "      <td>79.0</td>\n",
       "      <td>1900.0</td>\n",
       "      <td>Northern Metropolitan</td>\n",
       "      <td>4019.0</td>\n",
       "      <td>2016-04-01</td>\n",
       "      <td>3067.0</td>\n",
       "      <td>258.0</td>\n",
       "      <td>130.624031</td>\n",
       "      <td>605.152174</td>\n",
       "      <td>2187.032258</td>\n",
       "      <td>Yarra</td>\n",
       "    </tr>\n",
       "    <tr>\n",
       "      <th>2</th>\n",
       "      <td>Abbotsford</td>\n",
       "      <td>3</td>\n",
       "      <td>h</td>\n",
       "      <td>1465000.0</td>\n",
       "      <td>3067.0</td>\n",
       "      <td>2.0</td>\n",
       "      <td>2.5</td>\n",
       "      <td>134.0</td>\n",
       "      <td>150.0</td>\n",
       "      <td>1900.0</td>\n",
       "      <td>Northern Metropolitan</td>\n",
       "      <td>4019.0</td>\n",
       "      <td>2017-04-01</td>\n",
       "      <td>3067.0</td>\n",
       "      <td>258.0</td>\n",
       "      <td>130.624031</td>\n",
       "      <td>605.152174</td>\n",
       "      <td>2187.032258</td>\n",
       "      <td>Yarra</td>\n",
       "    </tr>\n",
       "  </tbody>\n",
       "</table>\n",
       "</div>"
      ],
      "text/plain": [
       "       Suburb  Rooms Type      Price  Postcode  Bathroom  Distance  Landsize  \\\n",
       "0  Abbotsford      2    h  1480000.0    3067.0       1.0       2.5     202.0   \n",
       "1  Abbotsford      2    h  1035000.0    3067.0       1.0       2.5     156.0   \n",
       "2  Abbotsford      3    h  1465000.0    3067.0       2.0       2.5     134.0   \n",
       "\n",
       "   BuildingArea  YearBuilt             Regionname  Propertycount  date_month  \\\n",
       "0           NaN        NaN  Northern Metropolitan         4019.0  2016-03-01   \n",
       "1          79.0     1900.0  Northern Metropolitan         4019.0  2016-04-01   \n",
       "2         150.0     1900.0  Northern Metropolitan         4019.0  2017-04-01   \n",
       "\n",
       "   zipcode  airbnb_record_count  airbnb_price_mean  airbnb_weekly_price_mean  \\\n",
       "0   3067.0                258.0         130.624031                605.152174   \n",
       "1   3067.0                258.0         130.624031                605.152174   \n",
       "2   3067.0                258.0         130.624031                605.152174   \n",
       "\n",
       "   airbnb_monthly_price_mean CouncilArea  \n",
       "0                2187.032258       Yarra  \n",
       "1                2187.032258       Yarra  \n",
       "2                2187.032258       Yarra  "
      ]
     },
     "execution_count": 2,
     "metadata": {},
     "output_type": "execute_result"
    }
   ],
   "source": [
    "# Acá deberían leer el conjunto de datos que ya tienen.\n",
    "df = pandas.read_csv(\n",
    "    'https://raw.githubusercontent.com/FernandoGuillermo/TrabajosPracticos/main/Analisis%20exploratorio%20y%20curacion%20de%20datos/Dataset/merged_final.csv')\n",
    "df[:3]"
   ]
  },
  {
   "cell_type": "markdown",
   "metadata": {
    "id": "s-mixICN22kA"
   },
   "source": [
    "## Ejercicio 1: Encoding\n",
    "\n",
    "1. Seleccionar todas las filas y columnas del conjunto de datos obtenido en la parte 1 del entregable, **excepto** `BuildingArea` y `YearBuilt`, que volveremos a imputar más adelante.\n",
    "\n",
    "2. Aplicar una codificación One-hot encoding a cada fila, tanto para variables numéricas como categóricas. Si lo consideran necesario, pueden volver a reducir el número de categorías únicas.\n",
    "\n",
    "Algunas opciones:\n",
    "  1. Utilizar `OneHotEncoder` junto con el parámetro `categories` para las variables categóricas y luego usar `numpy.hstack` para concatenar el resultado con las variables numéricas. \n",
    "  2. `DictVectorizer` con algunos pasos de pre-proceso previo.\n",
    "\n",
    "Recordar también que el atributo `pandas.DataFrame.values` permite acceder a la matriz de numpy subyacente a un DataFrame.\n"
   ]
  },
  {
   "cell_type": "code",
   "execution_count": 3,
   "metadata": {},
   "outputs": [
    {
     "data": {
      "text/plain": [
       "Suburb                        object\n",
       "Rooms                          int64\n",
       "Type                          object\n",
       "Price                        float64\n",
       "Postcode                     float64\n",
       "Bathroom                     float64\n",
       "Distance                     float64\n",
       "Landsize                     float64\n",
       "BuildingArea                 float64\n",
       "YearBuilt                    float64\n",
       "Regionname                    object\n",
       "Propertycount                float64\n",
       "date_month                    object\n",
       "zipcode                      float64\n",
       "airbnb_record_count          float64\n",
       "airbnb_price_mean            float64\n",
       "airbnb_weekly_price_mean     float64\n",
       "airbnb_monthly_price_mean    float64\n",
       "CouncilArea                   object\n",
       "dtype: object"
      ]
     },
     "execution_count": 3,
     "metadata": {},
     "output_type": "execute_result"
    }
   ],
   "source": [
    "df.dtypes"
   ]
  },
  {
   "cell_type": "code",
   "execution_count": 4,
   "metadata": {},
   "outputs": [],
   "source": [
    "feature_cols = [ 'Suburb'\n",
    "               , 'Type'\n",
    "               , \"Rooms\"\n",
    "               , \"Price\"\n",
    "               , \"PostCode\"\n",
    "               , 'Distance'\n",
    "               , 'Bathroom'\n",
    "               , 'Car'\n",
    "               , 'Landsize'\n",
    "               , 'BuildingArea'\n",
    "               , 'YearBuilt'\n",
    "               , 'Regionname'\n",
    "               , \"date_month\"\n",
    "               , \"zipcode\"\n",
    "               , \"Propertycount \"\n",
    "               ,\"airbnb_record_count\"\n",
    "               ,\"airbnb_weekly_price_mean\"\n",
    "               ,\"airbnb_monthly_price_mean\"\n",
    "               ,\"CouncilArea\"\n",
    "               ]\n"
   ]
  },
  {
   "cell_type": "code",
   "execution_count": 5,
   "metadata": {},
   "outputs": [
    {
     "data": {
      "text/plain": [
       "[{'Suburb': 'Abbotsford',\n",
       "  'Rooms': 2,\n",
       "  'Type': 'h',\n",
       "  'Price': 1480000.0,\n",
       "  'Postcode': 3067.0,\n",
       "  'Bathroom': 1.0,\n",
       "  'Distance': 2.5,\n",
       "  'Landsize': 202.0,\n",
       "  'BuildingArea': nan,\n",
       "  'YearBuilt': nan,\n",
       "  'Regionname': 'Northern Metropolitan',\n",
       "  'Propertycount': 4019.0,\n",
       "  'date_month': '2016-03-01',\n",
       "  'zipcode': 3067.0,\n",
       "  'airbnb_record_count': 258.0,\n",
       "  'airbnb_price_mean': 130.62403100775194,\n",
       "  'airbnb_weekly_price_mean': 605.1521739130435,\n",
       "  'airbnb_monthly_price_mean': 2187.032258064516,\n",
       "  'CouncilArea': 'Yarra'}]"
      ]
     },
     "execution_count": 5,
     "metadata": {},
     "output_type": "execute_result"
    }
   ],
   "source": [
    "feature_dict = list(df.T.to_dict().values())\n",
    "\n",
    "feature_dict[:1]"
   ]
  },
  {
   "cell_type": "code",
   "execution_count": 6,
   "metadata": {},
   "outputs": [],
   "source": [
    "\n",
    "from sklearn.feature_extraction import DictVectorizer\n",
    "\n",
    "vec = DictVectorizer()\n",
    "feature_matrix = vec.fit_transform(feature_dict)\n",
    "\n"
   ]
  },
  {
   "cell_type": "code",
   "execution_count": 7,
   "metadata": {},
   "outputs": [
    {
     "data": {
      "text/plain": [
       "<13444x394 sparse matrix of type '<class 'numpy.float64'>'\n",
       "\twith 255436 stored elements in Compressed Sparse Row format>"
      ]
     },
     "execution_count": 7,
     "metadata": {},
     "output_type": "execute_result"
    }
   ],
   "source": [
    "feature_matrix"
   ]
  },
  {
   "cell_type": "code",
   "execution_count": 8,
   "metadata": {},
   "outputs": [
    {
     "data": {
      "text/plain": [
       "['Bathroom',\n",
       " 'BuildingArea',\n",
       " 'CouncilArea=Banyule',\n",
       " 'CouncilArea=Bayside',\n",
       " 'CouncilArea=Boroondara',\n",
       " 'CouncilArea=Brimbank',\n",
       " 'CouncilArea=Cardinia',\n",
       " 'CouncilArea=Casey',\n",
       " 'CouncilArea=Darebin',\n",
       " 'CouncilArea=Frankston',\n",
       " 'CouncilArea=Glen Eira',\n",
       " 'CouncilArea=Greater Dandenong',\n",
       " 'CouncilArea=Hobsons Bay',\n",
       " 'CouncilArea=Hume',\n",
       " 'CouncilArea=Kingston']"
      ]
     },
     "execution_count": 8,
     "metadata": {},
     "output_type": "execute_result"
    }
   ],
   "source": [
    "vec.get_feature_names()[:15]"
   ]
  },
  {
   "cell_type": "code",
   "execution_count": 9,
   "metadata": {},
   "outputs": [],
   "source": [
    "# Fill nan values on sparse matrix.\n",
    "if numpy.any(numpy.isnan(feature_matrix.data)):\n",
    "    feature_matrix.data = numpy.nan_to_num(feature_matrix.data)"
   ]
  },
  {
   "cell_type": "code",
   "execution_count": 10,
   "metadata": {},
   "outputs": [
    {
     "data": {
      "text/plain": [
       "<13444x394 sparse matrix of type '<class 'numpy.float64'>'\n",
       "\twith 255436 stored elements in Compressed Sparse Row format>"
      ]
     },
     "execution_count": 10,
     "metadata": {},
     "output_type": "execute_result"
    }
   ],
   "source": [
    "feature_matrix"
   ]
  },
  {
   "cell_type": "markdown",
   "metadata": {},
   "source": [
    "Para aplicar algunas transformaciones o modelos es necesario convertir las matrices **esparsas** a **densas**.\n",
    "Antes de realizar este cambio, es recomendable calcular el tamaño de la matriz final.\n",
    "Recordar que cada número de punto flotante ocupa $4$ bytes para la precisión simple (`numpy.float32`) y $8$ bytes para la precisión doble (`numpy.float64`)."
   ]
  },
  {
   "cell_type": "code",
   "execution_count": 11,
   "metadata": {},
   "outputs": [
    {
     "name": "stdout",
     "output_type": "stream",
     "text": [
      "The dense matrix will weight approximately 20.21 MB\n",
      "Matrix too big! Using only first 6653 of 13444 rows\n",
      "Final size: 10.00\n"
     ]
    }
   ],
   "source": [
    "# Before doing this type of conversion, it's mandatory to calculate\n",
    "# the size of the resulting matrix!\n",
    "matrix_size_mb = feature_matrix.shape[0] * feature_matrix.shape[1] * 4 / 1024 / 1024\n",
    "print(\"The dense matrix will weight approximately {:.2f} MB\".format(matrix_size_mb))\n",
    "\n",
    "limit_size_mb = 10\n",
    "precision_type = numpy.float32\n",
    "if matrix_size_mb < limit_size_mb:  # Matrix is less than 10MB\n",
    "    dense_feature_matrix = feature_matrix.astype(precision_type).todense()\n",
    "else:\n",
    "    # We calculate how many rows would fit given the number of columns\n",
    "    n_rows = int(limit_size_mb * 1024 * 1024 / 4 / feature_matrix.shape[1])\n",
    "    print(\"Matrix too big! Using only first {} of {} rows\".format(n_rows, feature_matrix.shape[0]))\n",
    "    dense_feature_matrix = feature_matrix[:n_rows].astype(precision_type).todense()\n",
    "\n",
    "print(\"Final size: {:.2f}\".format(dense_feature_matrix.nbytes / 1024 / 1024))"
   ]
  },
  {
   "cell_type": "code",
   "execution_count": 12,
   "metadata": {},
   "outputs": [
    {
     "data": {
      "text/html": [
       "<div>\n",
       "<style scoped>\n",
       "    .dataframe tbody tr th:only-of-type {\n",
       "        vertical-align: middle;\n",
       "    }\n",
       "\n",
       "    .dataframe tbody tr th {\n",
       "        vertical-align: top;\n",
       "    }\n",
       "\n",
       "    .dataframe thead th {\n",
       "        text-align: right;\n",
       "    }\n",
       "</style>\n",
       "<table border=\"1\" class=\"dataframe\">\n",
       "  <thead>\n",
       "    <tr style=\"text-align: right;\">\n",
       "      <th></th>\n",
       "      <th>Bathroom</th>\n",
       "      <th>BuildingArea</th>\n",
       "      <th>CouncilArea=Banyule</th>\n",
       "      <th>CouncilArea=Bayside</th>\n",
       "      <th>CouncilArea=Boroondara</th>\n",
       "      <th>CouncilArea=Brimbank</th>\n",
       "      <th>CouncilArea=Cardinia</th>\n",
       "      <th>CouncilArea=Casey</th>\n",
       "      <th>CouncilArea=Darebin</th>\n",
       "      <th>CouncilArea=Frankston</th>\n",
       "      <th>...</th>\n",
       "      <th>date_month=2017-03-01</th>\n",
       "      <th>date_month=2017-04-01</th>\n",
       "      <th>date_month=2017-05-01</th>\n",
       "      <th>date_month=2017-06-01</th>\n",
       "      <th>date_month=2017-07-01</th>\n",
       "      <th>date_month=2017-08-01</th>\n",
       "      <th>date_month=2017-09-01</th>\n",
       "      <th>date_month=2017-11-01</th>\n",
       "      <th>date_month=2017-12-01</th>\n",
       "      <th>zipcode</th>\n",
       "    </tr>\n",
       "  </thead>\n",
       "  <tbody>\n",
       "    <tr>\n",
       "      <th>0</th>\n",
       "      <td>1.0</td>\n",
       "      <td>0.0</td>\n",
       "      <td>0.0</td>\n",
       "      <td>0.0</td>\n",
       "      <td>0.0</td>\n",
       "      <td>0.0</td>\n",
       "      <td>0.0</td>\n",
       "      <td>0.0</td>\n",
       "      <td>0.0</td>\n",
       "      <td>0.0</td>\n",
       "      <td>...</td>\n",
       "      <td>0.0</td>\n",
       "      <td>0.0</td>\n",
       "      <td>0.0</td>\n",
       "      <td>0.0</td>\n",
       "      <td>0.0</td>\n",
       "      <td>0.0</td>\n",
       "      <td>0.0</td>\n",
       "      <td>0.0</td>\n",
       "      <td>0.0</td>\n",
       "      <td>3067.0</td>\n",
       "    </tr>\n",
       "    <tr>\n",
       "      <th>1</th>\n",
       "      <td>1.0</td>\n",
       "      <td>79.0</td>\n",
       "      <td>0.0</td>\n",
       "      <td>0.0</td>\n",
       "      <td>0.0</td>\n",
       "      <td>0.0</td>\n",
       "      <td>0.0</td>\n",
       "      <td>0.0</td>\n",
       "      <td>0.0</td>\n",
       "      <td>0.0</td>\n",
       "      <td>...</td>\n",
       "      <td>0.0</td>\n",
       "      <td>0.0</td>\n",
       "      <td>0.0</td>\n",
       "      <td>0.0</td>\n",
       "      <td>0.0</td>\n",
       "      <td>0.0</td>\n",
       "      <td>0.0</td>\n",
       "      <td>0.0</td>\n",
       "      <td>0.0</td>\n",
       "      <td>3067.0</td>\n",
       "    </tr>\n",
       "    <tr>\n",
       "      <th>2</th>\n",
       "      <td>2.0</td>\n",
       "      <td>150.0</td>\n",
       "      <td>0.0</td>\n",
       "      <td>0.0</td>\n",
       "      <td>0.0</td>\n",
       "      <td>0.0</td>\n",
       "      <td>0.0</td>\n",
       "      <td>0.0</td>\n",
       "      <td>0.0</td>\n",
       "      <td>0.0</td>\n",
       "      <td>...</td>\n",
       "      <td>0.0</td>\n",
       "      <td>1.0</td>\n",
       "      <td>0.0</td>\n",
       "      <td>0.0</td>\n",
       "      <td>0.0</td>\n",
       "      <td>0.0</td>\n",
       "      <td>0.0</td>\n",
       "      <td>0.0</td>\n",
       "      <td>0.0</td>\n",
       "      <td>3067.0</td>\n",
       "    </tr>\n",
       "    <tr>\n",
       "      <th>3</th>\n",
       "      <td>2.0</td>\n",
       "      <td>0.0</td>\n",
       "      <td>0.0</td>\n",
       "      <td>0.0</td>\n",
       "      <td>0.0</td>\n",
       "      <td>0.0</td>\n",
       "      <td>0.0</td>\n",
       "      <td>0.0</td>\n",
       "      <td>0.0</td>\n",
       "      <td>0.0</td>\n",
       "      <td>...</td>\n",
       "      <td>0.0</td>\n",
       "      <td>1.0</td>\n",
       "      <td>0.0</td>\n",
       "      <td>0.0</td>\n",
       "      <td>0.0</td>\n",
       "      <td>0.0</td>\n",
       "      <td>0.0</td>\n",
       "      <td>0.0</td>\n",
       "      <td>0.0</td>\n",
       "      <td>3067.0</td>\n",
       "    </tr>\n",
       "    <tr>\n",
       "      <th>4</th>\n",
       "      <td>1.0</td>\n",
       "      <td>142.0</td>\n",
       "      <td>0.0</td>\n",
       "      <td>0.0</td>\n",
       "      <td>0.0</td>\n",
       "      <td>0.0</td>\n",
       "      <td>0.0</td>\n",
       "      <td>0.0</td>\n",
       "      <td>0.0</td>\n",
       "      <td>0.0</td>\n",
       "      <td>...</td>\n",
       "      <td>0.0</td>\n",
       "      <td>0.0</td>\n",
       "      <td>0.0</td>\n",
       "      <td>0.0</td>\n",
       "      <td>0.0</td>\n",
       "      <td>0.0</td>\n",
       "      <td>0.0</td>\n",
       "      <td>0.0</td>\n",
       "      <td>0.0</td>\n",
       "      <td>3067.0</td>\n",
       "    </tr>\n",
       "    <tr>\n",
       "      <th>...</th>\n",
       "      <td>...</td>\n",
       "      <td>...</td>\n",
       "      <td>...</td>\n",
       "      <td>...</td>\n",
       "      <td>...</td>\n",
       "      <td>...</td>\n",
       "      <td>...</td>\n",
       "      <td>...</td>\n",
       "      <td>...</td>\n",
       "      <td>...</td>\n",
       "      <td>...</td>\n",
       "      <td>...</td>\n",
       "      <td>...</td>\n",
       "      <td>...</td>\n",
       "      <td>...</td>\n",
       "      <td>...</td>\n",
       "      <td>...</td>\n",
       "      <td>...</td>\n",
       "      <td>...</td>\n",
       "      <td>...</td>\n",
       "      <td>...</td>\n",
       "    </tr>\n",
       "    <tr>\n",
       "      <th>6648</th>\n",
       "      <td>1.0</td>\n",
       "      <td>71.0</td>\n",
       "      <td>0.0</td>\n",
       "      <td>0.0</td>\n",
       "      <td>0.0</td>\n",
       "      <td>0.0</td>\n",
       "      <td>0.0</td>\n",
       "      <td>0.0</td>\n",
       "      <td>0.0</td>\n",
       "      <td>0.0</td>\n",
       "      <td>...</td>\n",
       "      <td>0.0</td>\n",
       "      <td>0.0</td>\n",
       "      <td>0.0</td>\n",
       "      <td>0.0</td>\n",
       "      <td>0.0</td>\n",
       "      <td>0.0</td>\n",
       "      <td>0.0</td>\n",
       "      <td>0.0</td>\n",
       "      <td>0.0</td>\n",
       "      <td>3040.0</td>\n",
       "    </tr>\n",
       "    <tr>\n",
       "      <th>6649</th>\n",
       "      <td>1.0</td>\n",
       "      <td>0.0</td>\n",
       "      <td>0.0</td>\n",
       "      <td>0.0</td>\n",
       "      <td>0.0</td>\n",
       "      <td>0.0</td>\n",
       "      <td>0.0</td>\n",
       "      <td>0.0</td>\n",
       "      <td>0.0</td>\n",
       "      <td>0.0</td>\n",
       "      <td>...</td>\n",
       "      <td>0.0</td>\n",
       "      <td>0.0</td>\n",
       "      <td>0.0</td>\n",
       "      <td>0.0</td>\n",
       "      <td>0.0</td>\n",
       "      <td>0.0</td>\n",
       "      <td>0.0</td>\n",
       "      <td>0.0</td>\n",
       "      <td>0.0</td>\n",
       "      <td>3040.0</td>\n",
       "    </tr>\n",
       "    <tr>\n",
       "      <th>6650</th>\n",
       "      <td>2.0</td>\n",
       "      <td>204.0</td>\n",
       "      <td>0.0</td>\n",
       "      <td>0.0</td>\n",
       "      <td>0.0</td>\n",
       "      <td>0.0</td>\n",
       "      <td>0.0</td>\n",
       "      <td>0.0</td>\n",
       "      <td>0.0</td>\n",
       "      <td>0.0</td>\n",
       "      <td>...</td>\n",
       "      <td>0.0</td>\n",
       "      <td>0.0</td>\n",
       "      <td>0.0</td>\n",
       "      <td>0.0</td>\n",
       "      <td>0.0</td>\n",
       "      <td>0.0</td>\n",
       "      <td>0.0</td>\n",
       "      <td>0.0</td>\n",
       "      <td>0.0</td>\n",
       "      <td>3040.0</td>\n",
       "    </tr>\n",
       "    <tr>\n",
       "      <th>6651</th>\n",
       "      <td>1.0</td>\n",
       "      <td>0.0</td>\n",
       "      <td>0.0</td>\n",
       "      <td>0.0</td>\n",
       "      <td>0.0</td>\n",
       "      <td>0.0</td>\n",
       "      <td>0.0</td>\n",
       "      <td>0.0</td>\n",
       "      <td>0.0</td>\n",
       "      <td>0.0</td>\n",
       "      <td>...</td>\n",
       "      <td>0.0</td>\n",
       "      <td>0.0</td>\n",
       "      <td>0.0</td>\n",
       "      <td>0.0</td>\n",
       "      <td>0.0</td>\n",
       "      <td>0.0</td>\n",
       "      <td>0.0</td>\n",
       "      <td>0.0</td>\n",
       "      <td>0.0</td>\n",
       "      <td>3040.0</td>\n",
       "    </tr>\n",
       "    <tr>\n",
       "      <th>6652</th>\n",
       "      <td>2.0</td>\n",
       "      <td>149.0</td>\n",
       "      <td>0.0</td>\n",
       "      <td>0.0</td>\n",
       "      <td>0.0</td>\n",
       "      <td>0.0</td>\n",
       "      <td>0.0</td>\n",
       "      <td>0.0</td>\n",
       "      <td>0.0</td>\n",
       "      <td>0.0</td>\n",
       "      <td>...</td>\n",
       "      <td>0.0</td>\n",
       "      <td>0.0</td>\n",
       "      <td>0.0</td>\n",
       "      <td>0.0</td>\n",
       "      <td>0.0</td>\n",
       "      <td>0.0</td>\n",
       "      <td>0.0</td>\n",
       "      <td>0.0</td>\n",
       "      <td>0.0</td>\n",
       "      <td>3040.0</td>\n",
       "    </tr>\n",
       "  </tbody>\n",
       "</table>\n",
       "<p>6653 rows × 394 columns</p>\n",
       "</div>"
      ],
      "text/plain": [
       "      Bathroom  BuildingArea  CouncilArea=Banyule  CouncilArea=Bayside  \\\n",
       "0          1.0           0.0                  0.0                  0.0   \n",
       "1          1.0          79.0                  0.0                  0.0   \n",
       "2          2.0         150.0                  0.0                  0.0   \n",
       "3          2.0           0.0                  0.0                  0.0   \n",
       "4          1.0         142.0                  0.0                  0.0   \n",
       "...        ...           ...                  ...                  ...   \n",
       "6648       1.0          71.0                  0.0                  0.0   \n",
       "6649       1.0           0.0                  0.0                  0.0   \n",
       "6650       2.0         204.0                  0.0                  0.0   \n",
       "6651       1.0           0.0                  0.0                  0.0   \n",
       "6652       2.0         149.0                  0.0                  0.0   \n",
       "\n",
       "      CouncilArea=Boroondara  CouncilArea=Brimbank  CouncilArea=Cardinia  \\\n",
       "0                        0.0                   0.0                   0.0   \n",
       "1                        0.0                   0.0                   0.0   \n",
       "2                        0.0                   0.0                   0.0   \n",
       "3                        0.0                   0.0                   0.0   \n",
       "4                        0.0                   0.0                   0.0   \n",
       "...                      ...                   ...                   ...   \n",
       "6648                     0.0                   0.0                   0.0   \n",
       "6649                     0.0                   0.0                   0.0   \n",
       "6650                     0.0                   0.0                   0.0   \n",
       "6651                     0.0                   0.0                   0.0   \n",
       "6652                     0.0                   0.0                   0.0   \n",
       "\n",
       "      CouncilArea=Casey  CouncilArea=Darebin  CouncilArea=Frankston  ...  \\\n",
       "0                   0.0                  0.0                    0.0  ...   \n",
       "1                   0.0                  0.0                    0.0  ...   \n",
       "2                   0.0                  0.0                    0.0  ...   \n",
       "3                   0.0                  0.0                    0.0  ...   \n",
       "4                   0.0                  0.0                    0.0  ...   \n",
       "...                 ...                  ...                    ...  ...   \n",
       "6648                0.0                  0.0                    0.0  ...   \n",
       "6649                0.0                  0.0                    0.0  ...   \n",
       "6650                0.0                  0.0                    0.0  ...   \n",
       "6651                0.0                  0.0                    0.0  ...   \n",
       "6652                0.0                  0.0                    0.0  ...   \n",
       "\n",
       "      date_month=2017-03-01  date_month=2017-04-01  date_month=2017-05-01  \\\n",
       "0                       0.0                    0.0                    0.0   \n",
       "1                       0.0                    0.0                    0.0   \n",
       "2                       0.0                    1.0                    0.0   \n",
       "3                       0.0                    1.0                    0.0   \n",
       "4                       0.0                    0.0                    0.0   \n",
       "...                     ...                    ...                    ...   \n",
       "6648                    0.0                    0.0                    0.0   \n",
       "6649                    0.0                    0.0                    0.0   \n",
       "6650                    0.0                    0.0                    0.0   \n",
       "6651                    0.0                    0.0                    0.0   \n",
       "6652                    0.0                    0.0                    0.0   \n",
       "\n",
       "      date_month=2017-06-01  date_month=2017-07-01  date_month=2017-08-01  \\\n",
       "0                       0.0                    0.0                    0.0   \n",
       "1                       0.0                    0.0                    0.0   \n",
       "2                       0.0                    0.0                    0.0   \n",
       "3                       0.0                    0.0                    0.0   \n",
       "4                       0.0                    0.0                    0.0   \n",
       "...                     ...                    ...                    ...   \n",
       "6648                    0.0                    0.0                    0.0   \n",
       "6649                    0.0                    0.0                    0.0   \n",
       "6650                    0.0                    0.0                    0.0   \n",
       "6651                    0.0                    0.0                    0.0   \n",
       "6652                    0.0                    0.0                    0.0   \n",
       "\n",
       "      date_month=2017-09-01  date_month=2017-11-01  date_month=2017-12-01  \\\n",
       "0                       0.0                    0.0                    0.0   \n",
       "1                       0.0                    0.0                    0.0   \n",
       "2                       0.0                    0.0                    0.0   \n",
       "3                       0.0                    0.0                    0.0   \n",
       "4                       0.0                    0.0                    0.0   \n",
       "...                     ...                    ...                    ...   \n",
       "6648                    0.0                    0.0                    0.0   \n",
       "6649                    0.0                    0.0                    0.0   \n",
       "6650                    0.0                    0.0                    0.0   \n",
       "6651                    0.0                    0.0                    0.0   \n",
       "6652                    0.0                    0.0                    0.0   \n",
       "\n",
       "      zipcode  \n",
       "0      3067.0  \n",
       "1      3067.0  \n",
       "2      3067.0  \n",
       "3      3067.0  \n",
       "4      3067.0  \n",
       "...       ...  \n",
       "6648   3040.0  \n",
       "6649   3040.0  \n",
       "6650   3040.0  \n",
       "6651   3040.0  \n",
       "6652   3040.0  \n",
       "\n",
       "[6653 rows x 394 columns]"
      ]
     },
     "execution_count": 12,
     "metadata": {},
     "output_type": "execute_result"
    }
   ],
   "source": [
    "df_encoding=pandas.DataFrame(data=dense_feature_matrix, columns=vec.feature_names_)\n",
    "df_encoding"
   ]
  },
  {
   "cell_type": "markdown",
   "metadata": {
    "id": "ismngxPcfoWb"
   },
   "source": [
    "## Ejercicio 2: Imputación por KNN\n",
    "\n",
    "En el teórico se presentó el método `IterativeImputer` para imputar valores faltantes en variables numéricas. Sin embargo, los ejemplos presentados sólo utilizaban algunas variables numéricas presentes en el conjunto de datos. En este ejercicio, utilizaremos la matriz de datos codificada para imputar datos faltantes de manera más precisa.\n",
    "\n",
    "1. Agregue a la matriz obtenida en el punto anterior las columnas `YearBuilt` y `BuildingArea`.\n",
    "2. Aplique una instancia de `IterativeImputer` con un estimador `KNeighborsRegressor` para imputar los valores de las variables. ¿Es necesario estandarizar o escalar los datos previamente?\n",
    "3. Realice un gráfico mostrando la distribución de cada variable antes de ser imputada, y con ambos métodos de imputación."
   ]
  },
  {
   "cell_type": "code",
   "execution_count": 13,
   "metadata": {},
   "outputs": [],
   "source": [
    "from sklearn.preprocessing import StandardScaler"
   ]
  },
  {
   "cell_type": "code",
   "execution_count": 14,
   "metadata": {},
   "outputs": [],
   "source": [
    "scaler=StandardScaler\n",
    "\n",
    "scaler = StandardScaler()\n",
    "\n",
    "scaled_matrix = scaler.fit_transform(df_encoding)\n",
    "\n",
    "scaled_df = pandas.DataFrame(data=scaled_matrix, columns=df_encoding.columns)\n"
   ]
  },
  {
   "cell_type": "code",
   "execution_count": 35,
   "metadata": {},
   "outputs": [],
   "source": [
    "from sklearn.impute import KNNImputer\n",
    "\n",
    "scaled_imputer_knn = scaled_df.copy(deep=True)\n",
    "\n",
    "\n",
    "knn_imputer = KNNImputer(n_neighbors=2, weights=\"uniform\")\n",
    "\n",
    "scaled_imputer_knn[['YearBuilt','BuildingArea']] = knn_imputer.fit_transform(scaled_imputer_knn[['YearBuilt','BuildingArea']])\n",
    "\n"
   ]
  },
  {
   "cell_type": "code",
   "execution_count": null,
   "metadata": {},
   "outputs": [],
   "source": []
  },
  {
   "cell_type": "code",
   "execution_count": 36,
   "metadata": {
    "colab": {
     "base_uri": "https://localhost:8080/"
    },
    "id": "G4ClSr_JapCw",
    "outputId": "9468199f-071a-4514-c62b-e161a6113f18"
   },
   "outputs": [],
   "source": [
    "from sklearn.experimental import enable_iterative_imputer\n",
    "from sklearn.neighbors import KNeighborsRegressor\n",
    "from sklearn.impute import IterativeImputer\n",
    "\n",
    "imput_data_mice = scaled_df.copy(deep=True)\n",
    "\n",
    "mice_imputer = IterativeImputer(random_state=0, estimator=KNeighborsRegressor())\n",
    "imput_data_mice[['YearBuilt','BuildingArea']] = mice_imputer.fit_transform(\n",
    "  imput_data_mice[['YearBuilt', 'BuildingArea']])"
   ]
  },
  {
   "cell_type": "markdown",
   "metadata": {
    "id": "ImjXQZUbVoKH"
   },
   "source": [
    "Ejemplo de gráfico comparando las distribuciones de datos obtenidas con cada método de imputación."
   ]
  },
  {
   "cell_type": "code",
   "execution_count": 37,
   "metadata": {},
   "outputs": [
    {
     "data": {
      "text/plain": [
       "(0.8, 1.1)"
      ]
     },
     "execution_count": 37,
     "metadata": {},
     "output_type": "execute_result"
    },
    {
     "data": {
      "image/png": "[encoded data removed]",
      "text/plain": [
       "<Figure size 1080x720 with 2 Axes>"
      ]
     },
     "metadata": {
      "needs_background": "light"
     },
     "output_type": "display_data"
    }
   ],
   "source": [
    "scaled_imputer_knn_copy = scaled_imputer_knn.YearBuilt.to_frame()\n",
    "\n",
    "scaled_imputer_knn_copy['Imputation'] = 'KNN using all variables'\n",
    "\n",
    "mice_year_built =imput_data_mice.YearBuilt.to_frame()\n",
    "mice_year_built['Imputation'] = 'KNN over YearBuilt and BuildingArea'\n",
    "melb_year_build = scaled_df.YearBuilt.dropna().to_frame()\n",
    "melb_year_build['Imputation'] = 'Original'\n",
    "data = pandas.concat([mice_year_built, melb_year_build])\n",
    "data = pandas.concat([data,scaled_imputer_knn_copy])\n",
    "\n",
    "fig, axes = plt.subplots(1, 2, figsize=(15, 10))\n",
    "\n",
    "\n",
    "g = seaborn.kdeplot(ax=axes[0], data=data, x='YearBuilt', hue='Imputation')\n",
    "\n",
    "\n",
    "g2 = seaborn.kdeplot(ax=axes[1],data=data, x='YearBuilt', hue='Imputation')\n",
    "g2.set_title('zoom')\n",
    "g2.set_xlim([0.8,1.1])"
   ]
  },
  {
   "cell_type": "code",
   "execution_count": 33,
   "metadata": {
    "colab": {
     "base_uri": "https://localhost:8080/",
     "height": 355
    },
    "id": "PMK1ktqYQTJK",
    "outputId": "b3ec0023-25cd-41ad-b069-cc59de7c2313"
   },
   "outputs": [
    {
     "data": {
      "image/png": "[encoded data removed]",
      "text/plain": [
       "<Figure size 1296x576 with 1 Axes>"
      ]
     },
     "metadata": {
      "needs_background": "light"
     },
     "output_type": "display_data"
    }
   ],
   "source": [
    "mice_year_built = imput_data_mice.YearBuilt.to_frame()\n",
    "mice_year_built['Imputation'] = 'KNN over YearBuilt and BuildingArea'\n",
    "melb_year_build = compare_df.YearBuilt.dropna().to_frame()\n",
    "melb_year_build['Imputation'] = 'Original'\n",
    "data = pandas.concat([mice_year_built, melb_year_build])\n",
    "fig = plt.figure(figsize=(18, 8))\n",
    "g = seaborn.kdeplot(data=data, x='YearBuilt', hue='Imputation')"
   ]
  },
  {
   "cell_type": "markdown",
   "metadata": {
    "id": "NBN7-5OIxjJW"
   },
   "source": [
    "## Ejercicio 3: Reducción de dimensionalidad.\n",
    "\n",
    "Utilizando la matriz obtenida en el ejercicio anterior:\n",
    "1. Aplique `PCA` para obtener $n$ componentes principales de la matriz, donde `n = min(20, X.shape[0])`. ¿Es necesario estandarizar o escalar los datos?\n",
    "2. Grafique la varianza capturada por los primeros $n$ componentes principales, para cada $n$.\n",
    "3. En base al gráfico, seleccione las primeras $m$ columnas de la matriz transformada para agregar como nuevas características al conjunto de datos."
   ]
  },
  {
   "cell_type": "code",
   "execution_count": 38,
   "metadata": {},
   "outputs": [],
   "source": [
    "scaled_dense_feature_matrix = dense_feature_matrix"
   ]
  },
  {
   "cell_type": "code",
   "execution_count": 39,
   "metadata": {},
   "outputs": [
    {
     "data": {
      "text/plain": [
       "(6653, 15)"
      ]
     },
     "execution_count": 39,
     "metadata": {},
     "output_type": "execute_result"
    }
   ],
   "source": [
    "from sklearn.decomposition import PCA\n",
    "pca = PCA(n_components=15)\n",
    "pca.fit(scaled_dense_feature_matrix)\n",
    "proyected_features = pca.transform(scaled_dense_feature_matrix)\n",
    "proyected_features.shape"
   ]
  },
  {
   "cell_type": "code",
   "execution_count": 40,
   "metadata": {},
   "outputs": [
    {
     "data": {
      "text/plain": [
       "array([9.9992383e-01, 5.9948336e-05, 6.3302805e-06, 5.5374730e-06,\n",
       "       2.7417907e-06, 2.5179230e-07, 4.8447152e-08, 4.5615661e-08,\n",
       "       1.6669800e-08, 8.7502272e-09, 2.4057470e-11, 1.6452058e-12,\n",
       "       9.4058236e-13, 7.5911087e-13, 5.1234283e-13], dtype=float32)"
      ]
     },
     "execution_count": 40,
     "metadata": {},
     "output_type": "execute_result"
    }
   ],
   "source": [
    "pca.explained_variance_ratio_"
   ]
  },
  {
   "cell_type": "code",
   "execution_count": 41,
   "metadata": {},
   "outputs": [
    {
     "data": {
      "text/plain": [
       "Text(0.5, 0, 'Components')"
      ]
     },
     "execution_count": 41,
     "metadata": {},
     "output_type": "execute_result"
    },
    {
     "data": {
      "image/png": "[encoded data removed]",
      "text/plain": [
       "<Figure size 432x288 with 1 Axes>"
      ]
     },
     "metadata": {
      "needs_background": "light"
     },
     "output_type": "display_data"
    }
   ],
   "source": [
    "seaborn.lineplot(x=range(pca.n_components),\n",
    "                 y=pca.explained_variance_ratio_)\n",
    "plt.ylabel(\"Ratio of variance explained\")\n",
    "plt.xlabel(\"Components\")"
   ]
  },
  {
   "cell_type": "markdown",
   "metadata": {
    "id": "WrZTYmG_ZyDy"
   },
   "source": [
    "## Ejercicio 4: Composición del resultado\n",
    "\n",
    "Transformar nuevamente el conjunto de datos procesado en un `pandas.DataFrame` y guardarlo en un archivo.\n",
    "\n",
    "Para eso, será necesario recordar el nombre original de cada columna de la matriz, en el orden correcto. Tener en cuenta:\n",
    "1. El método `OneHotEncoder.get_feature_names` o el atributo `OneHotEncoder.categories_` permiten obtener una lista con los valores de la categoría que le corresponde a cada índice de la matriz.\n",
    "2. Ninguno de los métodos aplicados intercambia de lugar las columnas o las filas de la matriz."
   ]
  },
  {
   "cell_type": "code",
   "execution_count": 46,
   "metadata": {},
   "outputs": [],
   "source": [
    "df_encoding.to_csv('encoding.csv',index=False)"
   ]
  },
  {
   "cell_type": "code",
   "execution_count": 43,
   "metadata": {},
   "outputs": [
    {
     "name": "stdout",
     "output_type": "stream",
     "text": [
      "Matrix has shape (13444, 11), with columns: ['Type=h', 'Type=t', 'Type=u', 'Regionname=Eastern Metropolitan', 'Regionname=Eastern Victoria', 'Regionname=Northern Metropolitan', 'Regionname=Northern Victoria', 'Regionname=South-Eastern Metropolitan', 'Regionname=Southern Metropolitan', 'Regionname=Western Metropolitan', 'Regionname=Western Victoria']\n",
      "Matrix has shape (13444, 11), with columns: ['Type=h', 'Type=t', 'Type=u', 'Regionname=Eastern Metropolitan', 'Regionname=Eastern Victoria', 'Regionname=Northern Metropolitan', 'Regionname=Northern Victoria', 'Regionname=South-Eastern Metropolitan', 'Regionname=Southern Metropolitan', 'Regionname=Western Metropolitan', 'Regionname=Western Victoria', 'Rooms', 'Distance']\n"
     ]
    },
    {
     "data": {
      "text/html": [
       "<div>\n",
       "<style scoped>\n",
       "    .dataframe tbody tr th:only-of-type {\n",
       "        vertical-align: middle;\n",
       "    }\n",
       "\n",
       "    .dataframe tbody tr th {\n",
       "        vertical-align: top;\n",
       "    }\n",
       "\n",
       "    .dataframe thead th {\n",
       "        text-align: right;\n",
       "    }\n",
       "</style>\n",
       "<table border=\"1\" class=\"dataframe\">\n",
       "  <thead>\n",
       "    <tr style=\"text-align: right;\">\n",
       "      <th></th>\n",
       "      <th>Type=h</th>\n",
       "      <th>Type=t</th>\n",
       "      <th>Type=u</th>\n",
       "      <th>Regionname=Eastern Metropolitan</th>\n",
       "      <th>Regionname=Eastern Victoria</th>\n",
       "      <th>Regionname=Northern Metropolitan</th>\n",
       "      <th>Regionname=Northern Victoria</th>\n",
       "      <th>Regionname=South-Eastern Metropolitan</th>\n",
       "      <th>Regionname=Southern Metropolitan</th>\n",
       "      <th>Regionname=Western Metropolitan</th>\n",
       "      <th>Regionname=Western Victoria</th>\n",
       "      <th>Rooms</th>\n",
       "      <th>Distance</th>\n",
       "      <th>pca1</th>\n",
       "      <th>pca2</th>\n",
       "    </tr>\n",
       "  </thead>\n",
       "  <tbody>\n",
       "    <tr>\n",
       "      <th>0</th>\n",
       "      <td>1.0</td>\n",
       "      <td>0.0</td>\n",
       "      <td>0.0</td>\n",
       "      <td>0.0</td>\n",
       "      <td>0.0</td>\n",
       "      <td>1.0</td>\n",
       "      <td>0.0</td>\n",
       "      <td>0.0</td>\n",
       "      <td>0.0</td>\n",
       "      <td>0.0</td>\n",
       "      <td>0.0</td>\n",
       "      <td>2.0</td>\n",
       "      <td>2.5</td>\n",
       "      <td>-7.699872</td>\n",
       "      <td>-0.253466</td>\n",
       "    </tr>\n",
       "    <tr>\n",
       "      <th>1</th>\n",
       "      <td>1.0</td>\n",
       "      <td>0.0</td>\n",
       "      <td>0.0</td>\n",
       "      <td>0.0</td>\n",
       "      <td>0.0</td>\n",
       "      <td>1.0</td>\n",
       "      <td>0.0</td>\n",
       "      <td>0.0</td>\n",
       "      <td>0.0</td>\n",
       "      <td>0.0</td>\n",
       "      <td>0.0</td>\n",
       "      <td>2.0</td>\n",
       "      <td>2.5</td>\n",
       "      <td>-7.699872</td>\n",
       "      <td>-0.253466</td>\n",
       "    </tr>\n",
       "    <tr>\n",
       "      <th>2</th>\n",
       "      <td>1.0</td>\n",
       "      <td>0.0</td>\n",
       "      <td>0.0</td>\n",
       "      <td>0.0</td>\n",
       "      <td>0.0</td>\n",
       "      <td>1.0</td>\n",
       "      <td>0.0</td>\n",
       "      <td>0.0</td>\n",
       "      <td>0.0</td>\n",
       "      <td>0.0</td>\n",
       "      <td>0.0</td>\n",
       "      <td>3.0</td>\n",
       "      <td>2.5</td>\n",
       "      <td>-7.649409</td>\n",
       "      <td>0.654934</td>\n",
       "    </tr>\n",
       "    <tr>\n",
       "      <th>3</th>\n",
       "      <td>1.0</td>\n",
       "      <td>0.0</td>\n",
       "      <td>0.0</td>\n",
       "      <td>0.0</td>\n",
       "      <td>0.0</td>\n",
       "      <td>1.0</td>\n",
       "      <td>0.0</td>\n",
       "      <td>0.0</td>\n",
       "      <td>0.0</td>\n",
       "      <td>0.0</td>\n",
       "      <td>0.0</td>\n",
       "      <td>3.0</td>\n",
       "      <td>2.5</td>\n",
       "      <td>-7.649409</td>\n",
       "      <td>0.654934</td>\n",
       "    </tr>\n",
       "    <tr>\n",
       "      <th>4</th>\n",
       "      <td>1.0</td>\n",
       "      <td>0.0</td>\n",
       "      <td>0.0</td>\n",
       "      <td>0.0</td>\n",
       "      <td>0.0</td>\n",
       "      <td>1.0</td>\n",
       "      <td>0.0</td>\n",
       "      <td>0.0</td>\n",
       "      <td>0.0</td>\n",
       "      <td>0.0</td>\n",
       "      <td>0.0</td>\n",
       "      <td>4.0</td>\n",
       "      <td>2.5</td>\n",
       "      <td>-7.598945</td>\n",
       "      <td>1.563335</td>\n",
       "    </tr>\n",
       "  </tbody>\n",
       "</table>\n",
       "</div>"
      ],
      "text/plain": [
       "   Type=h  Type=t  Type=u  Regionname=Eastern Metropolitan  \\\n",
       "0     1.0     0.0     0.0                              0.0   \n",
       "1     1.0     0.0     0.0                              0.0   \n",
       "2     1.0     0.0     0.0                              0.0   \n",
       "3     1.0     0.0     0.0                              0.0   \n",
       "4     1.0     0.0     0.0                              0.0   \n",
       "\n",
       "   Regionname=Eastern Victoria  Regionname=Northern Metropolitan  \\\n",
       "0                          0.0                               1.0   \n",
       "1                          0.0                               1.0   \n",
       "2                          0.0                               1.0   \n",
       "3                          0.0                               1.0   \n",
       "4                          0.0                               1.0   \n",
       "\n",
       "   Regionname=Northern Victoria  Regionname=South-Eastern Metropolitan  \\\n",
       "0                           0.0                                    0.0   \n",
       "1                           0.0                                    0.0   \n",
       "2                           0.0                                    0.0   \n",
       "3                           0.0                                    0.0   \n",
       "4                           0.0                                    0.0   \n",
       "\n",
       "   Regionname=Southern Metropolitan  Regionname=Western Metropolitan  \\\n",
       "0                               0.0                              0.0   \n",
       "1                               0.0                              0.0   \n",
       "2                               0.0                              0.0   \n",
       "3                               0.0                              0.0   \n",
       "4                               0.0                              0.0   \n",
       "\n",
       "   Regionname=Western Victoria  Rooms  Distance      pca1      pca2  \n",
       "0                          0.0    2.0       2.5 -7.699872 -0.253466  \n",
       "1                          0.0    2.0       2.5 -7.699872 -0.253466  \n",
       "2                          0.0    3.0       2.5 -7.649409  0.654934  \n",
       "3                          0.0    3.0       2.5 -7.649409  0.654934  \n",
       "4                          0.0    4.0       2.5 -7.598945  1.563335  "
      ]
     },
     "execution_count": 43,
     "metadata": {},
     "output_type": "execute_result"
    }
   ],
   "source": [
    "## Small example\n",
    "from sklearn.decomposition import PCA\n",
    "from sklearn.preprocessing import OneHotEncoder\n",
    "\n",
    "## If we process our data with the following steps:\n",
    "categorical_cols = ['Type', 'Regionname']\n",
    "numerical_cols = ['Rooms', 'Distance']\n",
    "new_columns = []\n",
    "\n",
    "# Step 1: encode categorical columns\n",
    "encoder = OneHotEncoder(handle_unknown='ignore', sparse=False)\n",
    "X_cat = encoder.fit_transform(df[categorical_cols])\n",
    "for col, col_values in zip(categorical_cols, encoder.categories_):\n",
    "  for col_value in col_values:\n",
    "    new_columns.append('{}={}'.format(col, col_value))\n",
    "print(\"Matrix has shape {}, with columns: {}\".format(X_cat.shape, new_columns))\n",
    "\n",
    "# Step 2: Append the numerical columns\n",
    "X = numpy.hstack([X_cat, df[numerical_cols].values])\n",
    "new_columns.extend(numerical_cols)\n",
    "print(\"Matrix has shape {}, with columns: {}\".format(X_cat.shape, new_columns))\n",
    "\n",
    "# Step 3: Append some new features, like PCA\n",
    "pca = PCA(n_components=2)\n",
    "pca_dummy_features = pca.fit_transform(X)\n",
    "X_pca = numpy.hstack([X, pca_dummy_features])\n",
    "new_columns.extend(['pca1', 'pca2'])\n",
    "\n",
    "## Re-build dataframe\n",
    "processed_df = pandas.DataFrame(data=X_pca, columns=new_columns)\n",
    "processed_df.head()\n",
    "\n"
   ]
  },
  {
   "cell_type": "code",
   "execution_count": null,
   "metadata": {},
   "outputs": [],
   "source": []
  },
  {
   "cell_type": "markdown",
   "metadata": {
    "id": "mVBLFc8PhRtW"
   },
   "source": [
    "## Ejercicio 5: Documentación\n",
    "\n",
    "En un documento `.pdf` o `.md` realizar un reporte de las operaciones que realizaron para obtener el conjunto de datos final. Se debe incluir:\n",
    "  1. Criterios de exclusión (o inclusión) de filas\n",
    "  2. Interpretación de las columnas presentes\n",
    "  2. Todas las transofrmaciones realizadas\n",
    "\n",
    "Este documento es de uso técnico exclusivamente, y su objetivo es permitir que otres desarrolladores puedan reproducir los mismos pasos y obtener el mismo resultado. Debe ser detallado pero consiso. Por ejemplo:\n",
    "\n",
    "```\n",
    "  ## Criterios de exclusión de ejemplos\n",
    "  1. Se eliminan ejemplos donde el año de construcción es previo a 1900\n",
    "\n",
    "  ## Características seleccionadas\n",
    "  ### Características categóricas\n",
    "  1. Type: tipo de propiedad. 3 valores posibles\n",
    "  2. ...\n",
    "  Todas las características categóricas fueron codificadas con un\n",
    "  método OneHotEncoding utilizando como máximo sus 30 valores más \n",
    "  frecuentes.\n",
    "  \n",
    "  ### Características numéricas\n",
    "  1. Rooms: Cantidad de habitaciones\n",
    "  2. Distance: Distancia al centro de la ciudad.\n",
    "  3. airbnb_mean_price: Se agrega el precio promedio diario de \n",
    "     publicaciones de la plataforma AirBnB en el mismo código \n",
    "     postal. [Link al repositorio con datos externos].\n",
    "\n",
    "  ### Transformaciones:\n",
    "  1. Todas las características numéricas fueron estandarizadas.\n",
    "  2. La columna `Suburb` fue imputada utilizando el método ...\n",
    "  3. Las columnas `YearBuilt` y ... fueron imputadas utilizando el \n",
    "     algoritmo ...\n",
    "  4. ...\n",
    "\n",
    "  ### Datos aumentados\n",
    "  1. Se agregan las 5 primeras columnas obtenidas a través del\n",
    "     método de PCA, aplicado sobre el conjunto de datos\n",
    "     totalmente procesado.\n",
    "```\n"
   ]
  },
  {
   "cell_type": "markdown",
   "metadata": {
    "id": "Bq7nuPg2HIYx"
   },
   "source": []
  }
 ],
 "metadata": {
  "colab": {
   "collapsed_sections": [],
   "include_colab_link": true,
   "name": "Entregable Parte 2.ipynb",
   "provenance": []
  },
  "kernelspec": {
   "display_name": "Python 3",
   "language": "python",
   "name": "python3"
  },
  "language_info": {
   "codemirror_mode": {
    "name": "ipython",
    "version": 3
   },
   "file_extension": ".py",
   "mimetype": "text/x-python",
   "name": "python",
   "nbconvert_exporter": "python",
   "pygments_lexer": "ipython3",
   "version": "3.8.5"
  }
 },
 "nbformat": 4,
 "nbformat_minor": 4
}
